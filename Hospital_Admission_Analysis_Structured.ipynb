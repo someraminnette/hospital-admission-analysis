{
 "cells": [
  {
   "cell_type": "markdown",
   "id": "06cbe0ed",
   "metadata": {},
   "source": [
    "\n",
    "# Hospital Admission Analysis\n",
    "\n",
    "This notebook analyzes hospital admission data to identify trends, such as the most common reasons for admission, average length of stay, and demographic insights. \n",
    "The goal is to demonstrate how data analysis can uncover valuable information to improve healthcare operations.\n"
   ]
  },
  {
   "cell_type": "markdown",
   "id": "c1d8459c",
   "metadata": {},
   "source": [
    "\n",
    "## Step 1: Load the Dataset\n",
    "\n",
    "We will start by creating a synthetic dataset representing hospital admission records. This includes information about patients' age, gender, reason for admission, and length of stay.\n"
   ]
  },
  {
   "cell_type": "code",
   "execution_count": null,
   "id": "789923a8",
   "metadata": {},
   "outputs": [],
   "source": [
    "\n",
    "import pandas as pd\n",
    "import matplotlib.pyplot as plt\n",
    "\n",
    "# Step 1: Load the Dataset (synthetic example)\n",
    "data = {\n",
    "    \"Patient_ID\": [1, 2, 3, 4, 5, 6, 7, 8, 9, 10],\n",
    "    \"Age\": [25, 34, 67, 45, 23, 56, 78, 34, 21, 50],\n",
    "    \"Gender\": [\"Female\", \"Male\", \"Female\", \"Male\", \"Female\", \"Male\", \"Male\", \"Female\", \"Female\", \"Male\"],\n",
    "    \"Reason_for_Admission\": [\n",
    "        \"Infection\", \"Cardiac\", \"Infection\", \"Orthopedic\", \"Infection\", \"Cardiac\", \"Orthopedic\", \"Infection\", \"Cardiac\", \"Orthopedic\"\n",
    "    ],\n",
    "    \"Length_of_Stay\": [3, 5, 7, 10, 2, 4, 8, 3, 5, 6],\n",
    "}\n",
    "\n",
    "# Create a DataFrame\n",
    "df = pd.DataFrame(data)\n",
    "df.head()\n"
   ]
  },
  {
   "cell_type": "markdown",
   "id": "56f51a08",
   "metadata": {},
   "source": [
    "\n",
    "## Step 2: Analyze the Data\n",
    "\n",
    "### Most Common Reasons for Admission\n",
    "We will identify the most frequent reasons for admission from the dataset.\n",
    "\n",
    "### Average Length of Stay by Condition\n",
    "We will calculate the average length of stay for each condition to provide insights into treatment durations.\n"
   ]
  },
  {
   "cell_type": "code",
   "execution_count": null,
   "id": "b3b7f81a",
   "metadata": {},
   "outputs": [],
   "source": [
    "\n",
    "# Step 2: Analyze Most Common Reasons for Admission\n",
    "admission_counts = df[\"Reason_for_Admission\"].value_counts()\n",
    "print(\"Most Common Reasons for Admission:\")\n",
    "print(admission_counts)\n",
    "\n",
    "# Step 3: Calculate Average Length of Stay by Condition\n",
    "avg_stay = df.groupby(\"Reason_for_Admission\")[\"Length_of_Stay\"].mean()\n",
    "print(\"\\nAverage Length of Stay by Condition:\")\n",
    "print(avg_stay)\n"
   ]
  },
  {
   "cell_type": "markdown",
   "id": "b64441b6",
   "metadata": {},
   "source": [
    "\n",
    "## Step 3: Visualize Patient Demographics\n",
    "\n",
    "To better understand the dataset, we will create visualizations for:\n",
    "\n",
    "- Gender distribution\n",
    "\n",
    "- Age distribution\n"
   ]
  },
  {
   "cell_type": "code",
   "execution_count": null,
   "id": "95d9463f",
   "metadata": {},
   "outputs": [],
   "source": [
    "\n",
    "# Gender distribution\n",
    "gender_counts = df[\"Gender\"].value_counts()\n",
    "plt.figure(figsize=(6, 4))\n",
    "gender_counts.plot(kind=\"bar\", color=[\"#1f77b4\", \"#ff7f0e\"])\n",
    "plt.title(\"Gender Distribution\")\n",
    "plt.ylabel(\"Number of Patients\")\n",
    "plt.xlabel(\"Gender\")\n",
    "plt.show()\n",
    "\n",
    "# Age distribution\n",
    "plt.figure(figsize=(6, 4))\n",
    "plt.hist(df[\"Age\"], bins=5, color=\"#2ca02c\", alpha=0.7)\n",
    "plt.title(\"Age Distribution\")\n",
    "plt.xlabel(\"Age\")\n",
    "plt.ylabel(\"Number of Patients\")\n",
    "plt.show()\n"
   ]
  }
 ],
 "metadata": {},
 "nbformat": 4,
 "nbformat_minor": 5
}
